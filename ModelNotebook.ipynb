{
 "cells": [
  {
   "cell_type": "code",
   "execution_count": 1,
   "metadata": {},
   "outputs": [],
   "source": [
    "import tensorflow as tf\n",
    "import glob"
   ]
  },
  {
   "cell_type": "code",
   "execution_count": 2,
   "metadata": {},
   "outputs": [],
   "source": [
    "DATASET_SIZE = 1203\n",
    "BATCH_SIZE = 8\n",
    "TRAIN_SIZE = 960\n",
    "\n",
    "filenames_list = []\n",
    "labels_list = []\n",
    "\n",
    "count = 1\n",
    "\n",
    "#  Mounting the filenames and the labels list\n",
    "sorted_names = sorted(glob.glob(\"./lfwcrop_color/labeled_faces/*.jpg\"))\n",
    "\n",
    "for file in sorted_names:\n",
    "    filenames_list.append(file)\n",
    "    if count <= 603: # the first 603 does not have a smile\n",
    "        labels_list.append(0)\n",
    "    else:\n",
    "        labels_list.append(1)\n",
    "    \n",
    "    count += 1"
   ]
  },
  {
   "cell_type": "code",
   "execution_count": 3,
   "metadata": {},
   "outputs": [],
   "source": [
    "# Reads an image from a file, decodes it into a dense tensor, and resizes it\n",
    "# to a fixed shape.\n",
    "def _parse_function(filename, label):\n",
    "    image_string = tf.read_file(filename)\n",
    "    image_decoded = tf.image.decode_jpeg(image_string, channels=3)\n",
    "    image_resized = tf.image.resize_images(image_decoded, [64, 64])\n",
    "    return image_resized, label"
   ]
  },
  {
   "cell_type": "code",
   "execution_count": 4,
   "metadata": {},
   "outputs": [],
   "source": [
    "# A vector of filenames.\n",
    "filenames = tf.constant(filenames_list)\n",
    "\n",
    "# 'labels[i]' is the label for the image in `filenames[i].\n",
    "labels = tf.constant(labels_list)\n",
    "\n",
    "def create_and_shuffle_dataset(filenames, labels):\n",
    "    # Generating tf.data.Dataset object and shuffling it\n",
    "    non_shuffled_dataset = tf.data.Dataset.from_tensor_slices((filenames, labels))\n",
    "    non_shuffled_dataset = non_shuffled_dataset.map(_parse_function)\n",
    "    \n",
    "    dataset = non_shuffled_dataset.shuffle(buffer_size=DATASET_SIZE)\n",
    "\n",
    "    return dataset"
   ]
  },
  {
   "cell_type": "code",
   "execution_count": 5,
   "metadata": {},
   "outputs": [],
   "source": [
    "def preparing_for_training(dataset):\n",
    "    # defining batch size and 'count' number of epochs\n",
    "    # taking ~ 80% for training and ~ 20% for testing\n",
    "    train_data = dataset.take(TRAIN_SIZE) \n",
    "    train_data = train_data.batch(batch_size=BATCH_SIZE)\n",
    "    train_data = train_data.repeat()\n",
    "\n",
    "    test_data = dataset.skip(TRAIN_SIZE)\n",
    "\n",
    "    return train_data, test_data"
   ]
  },
  {
   "cell_type": "code",
   "execution_count": 6,
   "metadata": {},
   "outputs": [],
   "source": [
    "dataset = create_and_shuffle_dataset(filenames,labels)\n",
    "train_data, test_data = preparing_for_training(dataset)"
   ]
  },
  {
   "cell_type": "code",
   "execution_count": 8,
   "metadata": {},
   "outputs": [
    {
     "data": {
      "text/plain": [
       "<DatasetV1Adapter shapes: ((64, 64, 3), ()), types: (tf.float32, tf.int32)>"
      ]
     },
     "execution_count": 8,
     "metadata": {},
     "output_type": "execute_result"
    }
   ],
   "source": [
    "test_data"
   ]
  }
 ],
 "metadata": {
  "kernelspec": {
   "display_name": "Python 3",
   "language": "python",
   "name": "python3"
  },
  "language_info": {
   "codemirror_mode": {
    "name": "ipython",
    "version": 3
   },
   "file_extension": ".py",
   "mimetype": "text/x-python",
   "name": "python",
   "nbconvert_exporter": "python",
   "pygments_lexer": "ipython3",
   "version": "3.7.3"
  }
 },
 "nbformat": 4,
 "nbformat_minor": 2
}
