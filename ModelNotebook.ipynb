{
 "cells": [
  {
   "cell_type": "markdown",
   "metadata": {},
   "source": [
    "# Pre-processing"
   ]
  },
  {
   "cell_type": "code",
   "execution_count": 1,
   "metadata": {},
   "outputs": [],
   "source": [
    "'''\n",
    "    This section is designed to adequate the dataset to the tensorflow\n",
    "    input format so that will be possible to build a classification\n",
    "    model with tensorflow.\n",
    "\n",
    "    After adequation, a model is built using the keras API.\n",
    "'''\n",
    "\n",
    "import tensorflow as tf\n",
    "from tensorflow.keras import layers, Model, metrics, regularizers\n",
    "import glob\n",
    "from random import shuffle"
   ]
  },
  {
   "cell_type": "code",
   "execution_count": 2,
   "metadata": {},
   "outputs": [],
   "source": [
    "DATASET_SIZE = 1203\n",
    "BATCH_SIZE = 16\n",
    "TRAIN_SIZE = 960\n",
    "NUM_EPOCHS = 15\n",
    "NUM_CLASSES = 2\n",
    "\n",
    "filenames_list = []\n",
    "labels_list = []\n",
    "\n",
    "filenames_list = glob.glob(\"./lfwcrop_color/labeled_faces/*.jpg\")\n",
    "shuffle(filenames_list)\n",
    "\n",
    "# last image of the non-smile list\n",
    "divisor = './lfwcrop_color/labeled_faces/Jacques_Chirac_0001.jpg'\n",
    "\n",
    "#  Mounting the filenames and the labels list\n",
    "for i in range(len(filenames_list)):\n",
    "    if filenames_list[i] > divisor:\n",
    "        labels_list.append(1)\n",
    "    else:\n",
    "        labels_list.append(0)"
   ]
  },
  {
   "cell_type": "code",
   "execution_count": 3,
   "metadata": {},
   "outputs": [],
   "source": [
    "# A vector of filenames.\n",
    "filenames = tf.constant(filenames_list)\n",
    "\n",
    "# 'labels[i]' is the label for the image in 'filenames[i]'.\n",
    "labels = tf.constant(labels_list)\n",
    "labels = tf.one_hot(tf.cast(labels, tf.int32), NUM_CLASSES)"
   ]
  },
  {
   "cell_type": "code",
   "execution_count": 4,
   "metadata": {},
   "outputs": [],
   "source": [
    "# Reads an image from a file, decodes it into a dense tensor, and resizes it\n",
    "# to a fixed shape.\n",
    "def _parse_function(filename, label):\n",
    "    image_string = tf.read_file(filename)\n",
    "    image_decoded = tf.image.decode_jpeg(image_string, channels=3)\n",
    "    image_resized = tf.image.resize_images(image_decoded, [64, 64])\n",
    "    std_image = tf.image.per_image_standardization(image_resized)\n",
    "    return std_image, label"
   ]
  },
  {
   "cell_type": "code",
   "execution_count": 5,
   "metadata": {},
   "outputs": [],
   "source": [
    "def create_dataset(filenames, labels):\n",
    "    # Generating tf.data.Dataset object and shuffling it\n",
    "    dataset = tf.data.Dataset.from_tensor_slices((filenames, labels))\n",
    "    dataset = dataset.map(_parse_function)\n",
    "\n",
    "    return dataset"
   ]
  },
  {
   "cell_type": "code",
   "execution_count": 6,
   "metadata": {},
   "outputs": [],
   "source": [
    "def train_test_split(dataset):\n",
    "    # defining batch size and 'count' number of epochs\n",
    "    # taking ~ 80% for training and ~ 20% for testing\n",
    "    train_data = dataset.take(TRAIN_SIZE) \n",
    "    train_data = train_data.batch(batch_size=BATCH_SIZE)\n",
    "    train_data = train_data.repeat()\n",
    "\n",
    "    test_data = dataset.skip(TRAIN_SIZE)\n",
    "    test_data = test_data.batch(batch_size=BATCH_SIZE)\n",
    "    test_data = test_data.repeat()\n",
    "\n",
    "    return train_data, test_data"
   ]
  },
  {
   "cell_type": "code",
   "execution_count": 7,
   "metadata": {},
   "outputs": [
    {
     "name": "stdout",
     "output_type": "stream",
     "text": [
      "WARNING:tensorflow:From /home/alexandre/anaconda3/envs/smile_detector/lib/python3.7/site-packages/tensorflow/python/ops/control_flow_ops.py:3632: colocate_with (from tensorflow.python.framework.ops) is deprecated and will be removed in a future version.\n",
      "Instructions for updating:\n",
      "Colocations handled automatically by placer.\n",
      "WARNING:tensorflow:From /home/alexandre/anaconda3/envs/smile_detector/lib/python3.7/site-packages/tensorflow/python/ops/image_ops_impl.py:1241: div (from tensorflow.python.ops.math_ops) is deprecated and will be removed in a future version.\n",
      "Instructions for updating:\n",
      "Deprecated in favor of operator or tf.math.divide.\n"
     ]
    }
   ],
   "source": [
    "dataset = create_dataset(filenames,labels)\n",
    "train_data, test_data = train_test_split(dataset)"
   ]
  },
  {
   "cell_type": "markdown",
   "metadata": {},
   "source": [
    "# Model"
   ]
  },
  {
   "cell_type": "code",
   "execution_count": 8,
   "metadata": {},
   "outputs": [
    {
     "name": "stdout",
     "output_type": "stream",
     "text": [
      "WARNING:tensorflow:From /home/alexandre/anaconda3/envs/smile_detector/lib/python3.7/site-packages/tensorflow/python/keras/layers/core.py:143: calling dropout (from tensorflow.python.ops.nn_ops) with keep_prob is deprecated and will be removed in a future version.\n",
      "Instructions for updating:\n",
      "Please use `rate` instead of `keep_prob`. Rate should be set to `rate = 1 - keep_prob`.\n"
     ]
    }
   ],
   "source": [
    "# --------- MODEL -------------\n",
    "\n",
    "# Inputs\n",
    "inputs = tf.keras.Input(shape=(64,64,3))\n",
    "\n",
    "# Convolutional Layer 1\n",
    "conv1 = layers.Conv2D(filters=32, kernel_size=[3,3], padding='same', activation=tf.nn.relu)(inputs)\n",
    "\n",
    "# Pooling Layer 1\n",
    "pool1 = layers.MaxPool2D(pool_size=(2,2), strides=2)(conv1)\n",
    "\n",
    "# Convolutional Layer 2\n",
    "conv2 = layers.Conv2D(filters=64, kernel_size=[3,3], activation=tf.nn.relu)(pool1)\n",
    "\n",
    "# Pooling Layer 2\n",
    "pool2 = layers.MaxPool2D(pool_size=(2,2), strides=2)(conv2)\n",
    "\n",
    "# Convolutional Layer 2\n",
    "conv3 = layers.Conv2D(filters=128, kernel_size=[3,3], activation=tf.nn.relu)(pool2)\n",
    "\n",
    "# Pooling Layer 2\n",
    "pool3 = layers.MaxPool2D(pool_size=(2,2), strides=2)(conv3)\n",
    "\n",
    "# Flattening\n",
    "pool3_flat = layers.Flatten()(pool3)\n",
    "\n",
    "# Dense Layer 1\n",
    "dense1 = layers.Dense(512, activation=tf.nn.relu, \n",
    "                      kernel_regularizer=regularizers.l1(0.001))(pool3_flat)\n",
    "\n",
    "# Dropping out with a probability of 'rate'\n",
    "dropped = layers.Dropout(rate=0.5)(dense1)\n",
    "\n",
    "# output Layer\n",
    "predictions = layers.Dense(NUM_CLASSES, activation=tf.nn.softmax)(dropped)"
   ]
  },
  {
   "cell_type": "code",
   "execution_count": 9,
   "metadata": {},
   "outputs": [
    {
     "name": "stdout",
     "output_type": "stream",
     "text": [
      "_________________________________________________________________\n",
      "Layer (type)                 Output Shape              Param #   \n",
      "=================================================================\n",
      "input_1 (InputLayer)         (None, 64, 64, 3)         0         \n",
      "_________________________________________________________________\n",
      "conv2d (Conv2D)              (None, 64, 64, 32)        896       \n",
      "_________________________________________________________________\n",
      "max_pooling2d (MaxPooling2D) (None, 32, 32, 32)        0         \n",
      "_________________________________________________________________\n",
      "conv2d_1 (Conv2D)            (None, 30, 30, 64)        18496     \n",
      "_________________________________________________________________\n",
      "max_pooling2d_1 (MaxPooling2 (None, 15, 15, 64)        0         \n",
      "_________________________________________________________________\n",
      "conv2d_2 (Conv2D)            (None, 13, 13, 128)       73856     \n",
      "_________________________________________________________________\n",
      "max_pooling2d_2 (MaxPooling2 (None, 6, 6, 128)         0         \n",
      "_________________________________________________________________\n",
      "flatten (Flatten)            (None, 4608)              0         \n",
      "_________________________________________________________________\n",
      "dense (Dense)                (None, 512)               2359808   \n",
      "_________________________________________________________________\n",
      "dropout (Dropout)            (None, 512)               0         \n",
      "_________________________________________________________________\n",
      "dense_1 (Dense)              (None, 2)                 1026      \n",
      "=================================================================\n",
      "Total params: 2,454,082\n",
      "Trainable params: 2,454,082\n",
      "Non-trainable params: 0\n",
      "_________________________________________________________________\n"
     ]
    }
   ],
   "source": [
    "# -------- MODEL PARAMETERS ---------\n",
    "\n",
    "model = Model(inputs=inputs, outputs=predictions)\n",
    "\n",
    "# Instantiating an ADAM Optimizer\n",
    "adam = tf.train.AdamOptimizer(learning_rate=0.001)\n",
    "\n",
    "model.compile(loss=metrics.binary_crossentropy, optimizer=adam, metrics=[metrics.categorical_accuracy])\n",
    "model.summary()"
   ]
  },
  {
   "cell_type": "markdown",
   "metadata": {},
   "source": [
    "# Training"
   ]
  },
  {
   "cell_type": "code",
   "execution_count": 10,
   "metadata": {},
   "outputs": [
    {
     "name": "stdout",
     "output_type": "stream",
     "text": [
      "WARNING:tensorflow:From /home/alexandre/anaconda3/envs/smile_detector/lib/python3.7/site-packages/tensorflow/python/ops/math_ops.py:3066: to_int32 (from tensorflow.python.ops.math_ops) is deprecated and will be removed in a future version.\n",
      "Instructions for updating:\n",
      "Use tf.cast instead.\n",
      "Epoch 1/15\n",
      "60/60 [==============================] - 11s 176ms/step - loss: 12.4361 - categorical_accuracy: 0.8083 - val_loss: 2.4599 - val_categorical_accuracy: 0.7750\n",
      "Epoch 2/15\n",
      "60/60 [==============================] - 10s 165ms/step - loss: 1.3947 - categorical_accuracy: 0.9062 - val_loss: 0.9158 - val_categorical_accuracy: 0.9692\n",
      "Epoch 3/15\n",
      "60/60 [==============================] - 8s 141ms/step - loss: 0.8226 - categorical_accuracy: 0.9365 - val_loss: 0.7276 - val_categorical_accuracy: 0.9736\n",
      "Epoch 4/15\n",
      "60/60 [==============================] - 9s 157ms/step - loss: 0.6895 - categorical_accuracy: 0.9458 - val_loss: 0.6455 - val_categorical_accuracy: 0.9736\n",
      "Epoch 5/15\n",
      "60/60 [==============================] - 8s 139ms/step - loss: 0.6033 - categorical_accuracy: 0.9625 - val_loss: 0.5679 - val_categorical_accuracy: 0.9736\n",
      "Epoch 6/15\n",
      "60/60 [==============================] - 8s 135ms/step - loss: 0.5659 - categorical_accuracy: 0.9625 - val_loss: 0.5581 - val_categorical_accuracy: 0.9780\n",
      "Epoch 7/15\n",
      "60/60 [==============================] - 8s 139ms/step - loss: 0.5387 - categorical_accuracy: 0.9760 - val_loss: 0.5155 - val_categorical_accuracy: 0.9736\n",
      "Epoch 8/15\n",
      "60/60 [==============================] - 8s 141ms/step - loss: 0.5105 - categorical_accuracy: 0.9740 - val_loss: 0.5596 - val_categorical_accuracy: 0.9736\n",
      "Epoch 9/15\n",
      "60/60 [==============================] - 9s 143ms/step - loss: 0.5182 - categorical_accuracy: 0.9750 - val_loss: 0.4936 - val_categorical_accuracy: 0.9780\n",
      "Epoch 10/15\n",
      "60/60 [==============================] - 8s 139ms/step - loss: 0.5067 - categorical_accuracy: 0.9719 - val_loss: 0.5759 - val_categorical_accuracy: 0.9648\n",
      "Epoch 11/15\n",
      "60/60 [==============================] - 8s 139ms/step - loss: 0.5215 - categorical_accuracy: 0.9781 - val_loss: 0.5241 - val_categorical_accuracy: 0.9692\n",
      "Epoch 12/15\n",
      "60/60 [==============================] - 8s 140ms/step - loss: 0.4447 - categorical_accuracy: 0.9865 - val_loss: 0.4422 - val_categorical_accuracy: 0.9824\n",
      "Epoch 13/15\n",
      "60/60 [==============================] - 8s 139ms/step - loss: 0.4028 - categorical_accuracy: 0.9927 - val_loss: 0.4453 - val_categorical_accuracy: 0.9824\n",
      "Epoch 14/15\n",
      "60/60 [==============================] - 9s 142ms/step - loss: 0.4082 - categorical_accuracy: 0.9885 - val_loss: 0.3999 - val_categorical_accuracy: 0.9912\n",
      "Epoch 15/15\n",
      "60/60 [==============================] - 9s 142ms/step - loss: 0.4129 - categorical_accuracy: 0.9906 - val_loss: 0.4366 - val_categorical_accuracy: 0.9824\n"
     ]
    }
   ],
   "source": [
    "H = model.fit(\n",
    "    train_data,\n",
    "    epochs=NUM_EPOCHS,\n",
    "    steps_per_epoch=60,\n",
    "    validation_data=test_data,\n",
    "    validation_steps=15\n",
    ")"
   ]
  },
  {
   "cell_type": "markdown",
   "metadata": {},
   "source": [
    "# Results"
   ]
  },
  {
   "cell_type": "markdown",
   "metadata": {},
   "source": [
    "### Training Loss and Accuracy"
   ]
  },
  {
   "cell_type": "code",
   "execution_count": 18,
   "metadata": {},
   "outputs": [
    {
     "data": {
      "image/png": "[encoded data removed]",
      "text/plain": [
       "<Figure size 432x288 with 1 Axes>"
      ]
     },
     "metadata": {},
     "output_type": "display_data"
    }
   ],
   "source": [
    "import numpy as np\n",
    "import matplotlib.pyplot as plt\n",
    "\n",
    "# Plotting the curve Epoch vs. Loss/Accuracy\n",
    "plt.style.use(\"ggplot\")\n",
    "plt.figure()\n",
    "plt.plot(np.arange(0, NUM_EPOCHS), H.history[\"loss\"], label=\"train_loss\")\n",
    "plt.plot(np.arange(0, NUM_EPOCHS), H.history[\"val_loss\"], label=\"val_loss\")\n",
    "plt.plot(np.arange(0, NUM_EPOCHS), H.history[\"categorical_accuracy\"], label=\"train_acc\")\n",
    "plt.plot(np.arange(0, NUM_EPOCHS), H.history[\"val_categorical_accuracy\"], label=\"val_acc\")\n",
    "plt.title(\"Training Loss and Accuracy\")\n",
    "plt.xlabel(\"Epoch #\")\n",
    "plt.ylabel(\"Loss/Accuracy\")\n",
    "plt.legend()\n",
    "plt.show()"
   ]
  },
  {
   "cell_type": "markdown",
   "metadata": {},
   "source": [
    "### Confusion matrix"
   ]
  },
  {
   "cell_type": "code",
   "execution_count": 12,
   "metadata": {},
   "outputs": [],
   "source": [
    "predictions = model.predict(test_data, steps=16)\n",
    "\n",
    "# apply a step function to threshold the outputs to binary\n",
    "# class labels\n",
    "predictions[predictions < 0.5] = 0\n",
    "predictions[predictions >= 0.5] = 1\n",
    "\n",
    "# extracting all labels of the test_data dataset\n",
    "lab = tf.constant(labels_list[TRAIN_SIZE:DATASET_SIZE])\n",
    "\n",
    "predicted = []\n",
    "\n",
    "for i in range(len(predictions)):\n",
    "    if predictions[i][0] == 0:\n",
    "        predicted.append(1)\n",
    "    else:\n",
    "        predicted.append(0)\n",
    "        \n",
    "# Transforming the predictions into a tensor to use tf.confusion_matrix\n",
    "predicted = tf.constant(predicted)"
   ]
  },
  {
   "cell_type": "code",
   "execution_count": 13,
   "metadata": {},
   "outputs": [
    {
     "name": "stdout",
     "output_type": "stream",
     "text": [
      "WARNING:tensorflow:From /home/alexandre/anaconda3/envs/smile_detector/lib/python3.7/site-packages/tensorflow/python/ops/confusion_matrix.py:193: to_int64 (from tensorflow.python.ops.math_ops) is deprecated and will be removed in a future version.\n",
      "Instructions for updating:\n",
      "Use tf.cast instead.\n",
      "[[117   1]\n",
      " [  3 122]]\n"
     ]
    }
   ],
   "source": [
    "confusion = tf.confusion_matrix(lab, predicted, num_classes=NUM_CLASSES)\n",
    "sess = tf.Session()\n",
    "with sess.as_default():\n",
    "        print(sess.run(confusion))"
   ]
  },
  {
   "cell_type": "markdown",
   "metadata": {},
   "source": [
    "# Predictions with evaluation_faces dataset"
   ]
  },
  {
   "cell_type": "code",
   "execution_count": 14,
   "metadata": {},
   "outputs": [],
   "source": [
    "files_ls = []\n",
    "files_ls = sorted(glob.glob(\"./lfwcrop_color/evaluation_faces/*.jpg\"))\n",
    "\n",
    "labels_ls = []\n",
    "\n",
    "for i in range(len(files_ls)):\n",
    "    if i+1 <= 10:\n",
    "        labels_ls.append(1)\n",
    "    else:\n",
    "        labels_ls.append(0)"
   ]
  },
  {
   "cell_type": "code",
   "execution_count": 15,
   "metadata": {},
   "outputs": [],
   "source": [
    "# A vector of filenames.\n",
    "samples = tf.constant(files_ls)\n",
    "\n",
    "# 'labels[i]' is the label for the image in 'filenames[i]'.\n",
    "label = tf.constant(labels_ls)\n",
    "label = tf.one_hot(tf.cast(label, tf.int32), NUM_CLASSES)"
   ]
  },
  {
   "cell_type": "code",
   "execution_count": 16,
   "metadata": {},
   "outputs": [],
   "source": [
    "eval_data = create_dataset(samples, label)\n",
    "eval_data = eval_data.batch(batch_size=len(labels_ls))\n",
    "\n",
    "predictions = model.predict(eval_data, steps=1)\n",
    "\n",
    "# apply a step function to threshold the outputs to binary\n",
    "# class labels\n",
    "predictions[predictions < 0.5] = 0\n",
    "predictions[predictions >= 0.5] = 1"
   ]
  },
  {
   "cell_type": "code",
   "execution_count": 17,
   "metadata": {},
   "outputs": [
    {
     "data": {
      "text/plain": [
       "array([[0., 1.],\n",
       "       [0., 1.],\n",
       "       [0., 1.],\n",
       "       [0., 1.],\n",
       "       [0., 1.],\n",
       "       [0., 1.],\n",
       "       [0., 1.],\n",
       "       [0., 1.],\n",
       "       [0., 1.],\n",
       "       [0., 1.],\n",
       "       [1., 0.],\n",
       "       [1., 0.],\n",
       "       [1., 0.],\n",
       "       [1., 0.],\n",
       "       [1., 0.],\n",
       "       [1., 0.],\n",
       "       [1., 0.],\n",
       "       [1., 0.],\n",
       "       [0., 1.],\n",
       "       [1., 0.]], dtype=float32)"
      ]
     },
     "execution_count": 17,
     "metadata": {},
     "output_type": "execute_result"
    }
   ],
   "source": [
    "predictions"
   ]
  }
 ],
 "metadata": {
  "kernelspec": {
   "display_name": "Python 3",
   "language": "python",
   "name": "python3"
  },
  "language_info": {
   "codemirror_mode": {
    "name": "ipython",
    "version": 3
   },
   "file_extension": ".py",
   "mimetype": "text/x-python",
   "name": "python",
   "nbconvert_exporter": "python",
   "pygments_lexer": "ipython3",
   "version": "3.7.3"
  }
 },
 "nbformat": 4,
 "nbformat_minor": 2
}
